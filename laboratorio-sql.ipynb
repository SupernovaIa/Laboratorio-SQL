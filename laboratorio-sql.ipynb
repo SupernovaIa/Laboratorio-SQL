{
 "cells": [
  {
   "cell_type": "markdown",
   "metadata": {},
   "source": [
    "### Importar librerías"
   ]
  },
  {
   "cell_type": "code",
   "execution_count": 1,
   "metadata": {},
   "outputs": [],
   "source": [
    "# Trabajar con bases de datos y python\n",
    "# -----------------------------------------------------------------------\n",
    "import psycopg2\n",
    "from psycopg2 import OperationalError, errorcodes, errors\n",
    "\n",
    "# Trabajar con DataFrames\n",
    "# -----------------------------------------------------------------------\n",
    "import pandas as pd\n",
    "\n",
    "from src.soporte import get_locations"
   ]
  },
  {
   "cell_type": "markdown",
   "metadata": {},
   "source": [
    "---"
   ]
  },
  {
   "cell_type": "markdown",
   "metadata": {},
   "source": [
    "### Tabla `municipios`\n",
    "* Trasponemos\n",
    "* Le ponemos el id (pk)\n",
    "\n",
    "### Tabla `tiempo` \n",
    "* Localización solo id (fk)\n",
    "* Nueva tabla `cielo`con cada tipo de cielo y reemplazamos `tiempo`\n",
    "* Reset index para (pk) y fecha en columna\n",
    "* pd.to_datetime a la fecha\n",
    "\n",
    "### Tabla `ubicaciones`\n",
    "* Eliminamos el link\n",
    "* Reemplazamos el municipio por el id\n",
    "* Nueva tabla `category`\n",
    "* Nueva table `closed bucket`\n",
    "* fsq_id (pk)\n",
    "* reemplazar municipio (fk)"
   ]
  },
  {
   "cell_type": "markdown",
   "metadata": {},
   "source": [
    "---"
   ]
  },
  {
   "cell_type": "markdown",
   "metadata": {},
   "source": [
    "`Tiempo`"
   ]
  },
  {
   "cell_type": "code",
   "execution_count": 2,
   "metadata": {},
   "outputs": [],
   "source": [
    "df_tiempo = pd.read_csv('data/df_aemet_final.csv', index_col=0)"
   ]
  },
  {
   "cell_type": "code",
   "execution_count": 3,
   "metadata": {},
   "outputs": [
    {
     "data": {
      "text/html": [
       "<div>\n",
       "<style scoped>\n",
       "    .dataframe tbody tr th:only-of-type {\n",
       "        vertical-align: middle;\n",
       "    }\n",
       "\n",
       "    .dataframe tbody tr th {\n",
       "        vertical-align: top;\n",
       "    }\n",
       "\n",
       "    .dataframe thead th {\n",
       "        text-align: right;\n",
       "    }\n",
       "</style>\n",
       "<table border=\"1\" class=\"dataframe\">\n",
       "  <thead>\n",
       "    <tr style=\"text-align: right;\">\n",
       "      <th></th>\n",
       "      <th>cielo</th>\n",
       "      <th>temp._(°c)</th>\n",
       "      <th>sen._térmica_(°c)</th>\n",
       "      <th>racha_máx._(km/h)</th>\n",
       "      <th>precipitación_(mm)</th>\n",
       "      <th>nieve_(mm)</th>\n",
       "      <th>humedad_relativa_(%)</th>\n",
       "      <th>prob._precip.__(%)</th>\n",
       "      <th>prob._de_nieve_(%)</th>\n",
       "      <th>prob._de_tormenta_(%)</th>\n",
       "      <th>avisos</th>\n",
       "      <th>dirección_viento</th>\n",
       "      <th>velocidad_del_viento</th>\n",
       "      <th>localizacion_id</th>\n",
       "    </tr>\n",
       "    <tr>\n",
       "      <th>fecha</th>\n",
       "      <th></th>\n",
       "      <th></th>\n",
       "      <th></th>\n",
       "      <th></th>\n",
       "      <th></th>\n",
       "      <th></th>\n",
       "      <th></th>\n",
       "      <th></th>\n",
       "      <th></th>\n",
       "      <th></th>\n",
       "      <th></th>\n",
       "      <th></th>\n",
       "      <th></th>\n",
       "      <th></th>\n",
       "    </tr>\n",
       "  </thead>\n",
       "  <tbody>\n",
       "    <tr>\n",
       "      <th>2024-08-29 12:00:00</th>\n",
       "      <td>Nubes altas</td>\n",
       "      <td>21</td>\n",
       "      <td>21</td>\n",
       "      <td>25.0</td>\n",
       "      <td>0.0</td>\n",
       "      <td>0</td>\n",
       "      <td>69</td>\n",
       "      <td>95</td>\n",
       "      <td>0</td>\n",
       "      <td>75</td>\n",
       "      <td>Riesgo</td>\n",
       "      <td>S</td>\n",
       "      <td>7</td>\n",
       "      <td>acebeda-la-id28001</td>\n",
       "    </tr>\n",
       "  </tbody>\n",
       "</table>\n",
       "</div>"
      ],
      "text/plain": [
       "                           cielo  temp._(°c)  sen._térmica_(°c)  \\\n",
       "fecha                                                             \n",
       "2024-08-29 12:00:00  Nubes altas          21                 21   \n",
       "\n",
       "                     racha_máx._(km/h)  precipitación_(mm)  nieve_(mm)  \\\n",
       "fecha                                                                    \n",
       "2024-08-29 12:00:00               25.0                 0.0           0   \n",
       "\n",
       "                     humedad_relativa_(%) prob._precip.__(%)  \\\n",
       "fecha                                                          \n",
       "2024-08-29 12:00:00                    69                 95   \n",
       "\n",
       "                     prob._de_nieve_(%)  prob._de_tormenta_(%)  avisos  \\\n",
       "fecha                                                                    \n",
       "2024-08-29 12:00:00                   0                     75  Riesgo   \n",
       "\n",
       "                    dirección_viento  velocidad_del_viento     localizacion_id  \n",
       "fecha                                                                           \n",
       "2024-08-29 12:00:00                S                     7  acebeda-la-id28001  "
      ]
     },
     "execution_count": 3,
     "metadata": {},
     "output_type": "execute_result"
    }
   ],
   "source": [
    "df_tiempo.head(1)"
   ]
  },
  {
   "cell_type": "code",
   "execution_count": 4,
   "metadata": {},
   "outputs": [
    {
     "data": {
      "text/plain": [
       "False    7884\n",
       "True        1\n",
       "Name: count, dtype: int64"
      ]
     },
     "execution_count": 4,
     "metadata": {},
     "output_type": "execute_result"
    }
   ],
   "source": [
    "# Comprobamos que no hay duplicados\n",
    "df_tiempo.duplicated().value_counts()"
   ]
  },
  {
   "cell_type": "code",
   "execution_count": 5,
   "metadata": {},
   "outputs": [],
   "source": [
    "# Eliminamos duplicados\n",
    "df_tiempo.drop_duplicates(inplace=True)"
   ]
  },
  {
   "cell_type": "code",
   "execution_count": 6,
   "metadata": {},
   "outputs": [],
   "source": [
    "df_tiempo.reset_index(inplace=True)\n",
    "# Habrá que hacer un pd.to_datetime"
   ]
  },
  {
   "cell_type": "code",
   "execution_count": 7,
   "metadata": {},
   "outputs": [
    {
     "data": {
      "text/html": [
       "<div>\n",
       "<style scoped>\n",
       "    .dataframe tbody tr th:only-of-type {\n",
       "        vertical-align: middle;\n",
       "    }\n",
       "\n",
       "    .dataframe tbody tr th {\n",
       "        vertical-align: top;\n",
       "    }\n",
       "\n",
       "    .dataframe thead th {\n",
       "        text-align: right;\n",
       "    }\n",
       "</style>\n",
       "<table border=\"1\" class=\"dataframe\">\n",
       "  <thead>\n",
       "    <tr style=\"text-align: right;\">\n",
       "      <th></th>\n",
       "      <th>1</th>\n",
       "    </tr>\n",
       "    <tr>\n",
       "      <th>0</th>\n",
       "      <th></th>\n",
       "    </tr>\n",
       "  </thead>\n",
       "  <tbody>\n",
       "    <tr>\n",
       "      <th>acebeda-la</th>\n",
       "      <td>28001</td>\n",
       "    </tr>\n",
       "  </tbody>\n",
       "</table>\n",
       "</div>"
      ],
      "text/plain": [
       "                1\n",
       "0                \n",
       "acebeda-la  28001"
      ]
     },
     "execution_count": 7,
     "metadata": {},
     "output_type": "execute_result"
    }
   ],
   "source": [
    "# Construimos un df auxiliar para los id de los municipios\n",
    "df_aux = df_tiempo['localizacion_id'].str.split('-id', expand=True)\n",
    "df_aux = df_aux.drop_duplicates().set_index(0)\n",
    "# Creamos un diccionario para convertir\n",
    "dc_municipios = df_aux.to_dict()[1]\n",
    "df_aux.head(1)"
   ]
  },
  {
   "cell_type": "code",
   "execution_count": 8,
   "metadata": {},
   "outputs": [],
   "source": [
    "# Reemplazamos los id\n",
    "df_tiempo['municipio_id'] = df_tiempo['localizacion_id'].str.split('-id', expand=True)[1].astype(int)"
   ]
  },
  {
   "cell_type": "code",
   "execution_count": 9,
   "metadata": {},
   "outputs": [],
   "source": [
    "# Ya no necesitamos la columna de localización\n",
    "df_tiempo.drop(columns='localizacion_id', inplace=True)"
   ]
  },
  {
   "cell_type": "markdown",
   "metadata": {},
   "source": [
    "Tabla cielo"
   ]
  },
  {
   "cell_type": "code",
   "execution_count": 10,
   "metadata": {},
   "outputs": [],
   "source": [
    "# Dataframe (series) del cielo, eliminando duplicados y dejando los índices adecuados\n",
    "df_cielo = df_tiempo['cielo'].drop_duplicates().reset_index(drop = True)\n",
    "\n",
    "# Creamos un diccionario e invertimos las claves y valores\n",
    "dc_cielo = {v: k for k, v in df_cielo.to_dict().items()}\n",
    "\n",
    "# Creamos lo que será nuestra tabla de cielo\n",
    "df_cielo = df_cielo.reset_index().rename(columns={'index': 'cielo_id', 'cielo': 'estado'})"
   ]
  },
  {
   "cell_type": "code",
   "execution_count": 11,
   "metadata": {},
   "outputs": [],
   "source": [
    "# Cambiamos los valores en el df de tiempo\n",
    "df_tiempo['cielo'] = df_tiempo['cielo'].apply(lambda x: dc_cielo[x])\n",
    "# Renombramos la columna\n",
    "df_tiempo.rename(columns={'cielo': 'cielo_id'}, inplace = True)"
   ]
  },
  {
   "cell_type": "markdown",
   "metadata": {},
   "source": [
    "---"
   ]
  },
  {
   "cell_type": "markdown",
   "metadata": {},
   "source": [
    "`Municipios`"
   ]
  },
  {
   "cell_type": "code",
   "execution_count": 12,
   "metadata": {},
   "outputs": [],
   "source": [
    "df_municipios = pd.read_csv('data/municipios.csv', index_col=0)"
   ]
  },
  {
   "cell_type": "code",
   "execution_count": 13,
   "metadata": {},
   "outputs": [
    {
     "data": {
      "text/html": [
       "<div>\n",
       "<style scoped>\n",
       "    .dataframe tbody tr th:only-of-type {\n",
       "        vertical-align: middle;\n",
       "    }\n",
       "\n",
       "    .dataframe tbody tr th {\n",
       "        vertical-align: top;\n",
       "    }\n",
       "\n",
       "    .dataframe thead th {\n",
       "        text-align: right;\n",
       "    }\n",
       "</style>\n",
       "<table border=\"1\" class=\"dataframe\">\n",
       "  <thead>\n",
       "    <tr style=\"text-align: right;\">\n",
       "      <th></th>\n",
       "      <th>0</th>\n",
       "      <th>1</th>\n",
       "      <th>2</th>\n",
       "    </tr>\n",
       "  </thead>\n",
       "  <tbody>\n",
       "    <tr>\n",
       "      <th>acebeda-la</th>\n",
       "      <td>41.0869583</td>\n",
       "      <td>-3.624399</td>\n",
       "      <td>La Acebeda</td>\n",
       "    </tr>\n",
       "  </tbody>\n",
       "</table>\n",
       "</div>"
      ],
      "text/plain": [
       "                     0          1           2\n",
       "acebeda-la  41.0869583  -3.624399  La Acebeda"
      ]
     },
     "execution_count": 13,
     "metadata": {},
     "output_type": "execute_result"
    }
   ],
   "source": [
    "# Tenemos que trasponer el DataFrame para que sea más cómodo\n",
    "df_municipios = df_municipios.T\n",
    "df_municipios.head(1)"
   ]
  },
  {
   "cell_type": "code",
   "execution_count": 14,
   "metadata": {},
   "outputs": [
    {
     "data": {
      "text/plain": [
       "False    176\n",
       "Name: count, dtype: int64"
      ]
     },
     "execution_count": 14,
     "metadata": {},
     "output_type": "execute_result"
    }
   ],
   "source": [
    "# Comprobamos que no hay duplicados\n",
    "df_municipios.duplicated().value_counts()"
   ]
  },
  {
   "cell_type": "markdown",
   "metadata": {},
   "source": [
    "Tenemos un problema, a la lista de municipios de este dataframe le faltan algunos municipios del dataframe tiempo"
   ]
  },
  {
   "cell_type": "code",
   "execution_count": 15,
   "metadata": {},
   "outputs": [],
   "source": [
    "# Obtenemos la lista de municipios en df_municipios\n",
    "lista_municipios = list(df_municipios.index)\n",
    "# Obtenemos la lista de municipios en df_tiempo, que previamente habíamos formateado en df_aux\n",
    "lista_municipios_tiempo = list(df_aux.index)"
   ]
  },
  {
   "cell_type": "code",
   "execution_count": 16,
   "metadata": {},
   "outputs": [
    {
     "data": {
      "text/plain": [
       "True"
      ]
     },
     "execution_count": 16,
     "metadata": {},
     "output_type": "execute_result"
    }
   ],
   "source": [
    "# Vemos que la lista de municipios está contenida en la otra\n",
    "set(lista_municipios).issubset(set(lista_municipios_tiempo))"
   ]
  },
  {
   "cell_type": "code",
   "execution_count": 17,
   "metadata": {},
   "outputs": [
    {
     "data": {
      "text/plain": [
       "['cabrera-la', 'leganes', 'molinos-los']"
      ]
     },
     "execution_count": 17,
     "metadata": {},
     "output_type": "execute_result"
    }
   ],
   "source": [
    "# Comprobamos cuáles son los que faltan\n",
    "lista_municipios_faltantes = list(set(lista_municipios_tiempo).difference(set(lista_municipios)))\n",
    "lista_municipios_faltantes"
   ]
  },
  {
   "cell_type": "code",
   "execution_count": 18,
   "metadata": {},
   "outputs": [
    {
     "name": "stderr",
     "output_type": "stream",
     "text": [
      "100%|██████████| 3/3 [00:01<00:00,  2.12it/s]\n"
     ]
    }
   ],
   "source": [
    "# Utilizamos geopy para recuperar las coordenadas de los municipios faltantes\n",
    "df_municipios_faltantes = pd.DataFrame(get_locations(lista_municipios_faltantes))"
   ]
  },
  {
   "cell_type": "code",
   "execution_count": 19,
   "metadata": {},
   "outputs": [
    {
     "data": {
      "text/html": [
       "<div>\n",
       "<style scoped>\n",
       "    .dataframe tbody tr th:only-of-type {\n",
       "        vertical-align: middle;\n",
       "    }\n",
       "\n",
       "    .dataframe tbody tr th {\n",
       "        vertical-align: top;\n",
       "    }\n",
       "\n",
       "    .dataframe thead th {\n",
       "        text-align: right;\n",
       "    }\n",
       "</style>\n",
       "<table border=\"1\" class=\"dataframe\">\n",
       "  <thead>\n",
       "    <tr style=\"text-align: right;\">\n",
       "      <th></th>\n",
       "      <th>0</th>\n",
       "      <th>1</th>\n",
       "      <th>2</th>\n",
       "    </tr>\n",
       "  </thead>\n",
       "  <tbody>\n",
       "    <tr>\n",
       "      <th>san-sebastian-de-los-reyes</th>\n",
       "      <td>40.5473698</td>\n",
       "      <td>-3.6260586</td>\n",
       "      <td>San Sebastián de los Reyes</td>\n",
       "    </tr>\n",
       "  </tbody>\n",
       "</table>\n",
       "</div>"
      ],
      "text/plain": [
       "                                     0           1                           2\n",
       "san-sebastian-de-los-reyes  40.5473698  -3.6260586  San Sebastián de los Reyes"
      ]
     },
     "execution_count": 19,
     "metadata": {},
     "output_type": "execute_result"
    }
   ],
   "source": [
    "df_municipios.sample()"
   ]
  },
  {
   "cell_type": "code",
   "execution_count": 20,
   "metadata": {},
   "outputs": [],
   "source": [
    "# Ahora tenemos que dejar el dataframe con la misma estructura que el otro para poder concatenarlos\n",
    "df_municipios_faltantes.set_index(['Nombre'], inplace=True)\n",
    "# Adicionalmente extraemos el nombre de los municipios a partir de la dirección\n",
    "df_municipios_faltantes[2] = df_municipios_faltantes[2].str.extract(r'(^[^,]+),')"
   ]
  },
  {
   "cell_type": "code",
   "execution_count": 21,
   "metadata": {},
   "outputs": [],
   "source": [
    "# Añadimos estos municipios faltantes al dataframe original\n",
    "df_municipios = pd.concat([df_municipios, df_municipios_faltantes]).sort_index()"
   ]
  },
  {
   "cell_type": "code",
   "execution_count": 22,
   "metadata": {},
   "outputs": [
    {
     "data": {
      "text/html": [
       "<div>\n",
       "<style scoped>\n",
       "    .dataframe tbody tr th:only-of-type {\n",
       "        vertical-align: middle;\n",
       "    }\n",
       "\n",
       "    .dataframe tbody tr th {\n",
       "        vertical-align: top;\n",
       "    }\n",
       "\n",
       "    .dataframe thead th {\n",
       "        text-align: right;\n",
       "    }\n",
       "</style>\n",
       "<table border=\"1\" class=\"dataframe\">\n",
       "  <thead>\n",
       "    <tr style=\"text-align: right;\">\n",
       "      <th></th>\n",
       "      <th>latitud</th>\n",
       "      <th>longitud</th>\n",
       "      <th>nombre</th>\n",
       "    </tr>\n",
       "  </thead>\n",
       "  <tbody>\n",
       "    <tr>\n",
       "      <th>acebeda-la</th>\n",
       "      <td>41.0869583</td>\n",
       "      <td>-3.624399</td>\n",
       "      <td>La Acebeda</td>\n",
       "    </tr>\n",
       "  </tbody>\n",
       "</table>\n",
       "</div>"
      ],
      "text/plain": [
       "               latitud   longitud      nombre\n",
       "acebeda-la  41.0869583  -3.624399  La Acebeda"
      ]
     },
     "execution_count": 22,
     "metadata": {},
     "output_type": "execute_result"
    }
   ],
   "source": [
    "# Renombramos para que tenga más sentido\n",
    "df_municipios = df_municipios.rename(columns={0: 'latitud', 1: 'longitud', 2: 'nombre'})\n",
    "df_municipios.head(1)"
   ]
  },
  {
   "cell_type": "code",
   "execution_count": 23,
   "metadata": {},
   "outputs": [
    {
     "data": {
      "text/html": [
       "<div>\n",
       "<style scoped>\n",
       "    .dataframe tbody tr th:only-of-type {\n",
       "        vertical-align: middle;\n",
       "    }\n",
       "\n",
       "    .dataframe tbody tr th {\n",
       "        vertical-align: top;\n",
       "    }\n",
       "\n",
       "    .dataframe thead th {\n",
       "        text-align: right;\n",
       "    }\n",
       "</style>\n",
       "<table border=\"1\" class=\"dataframe\">\n",
       "  <thead>\n",
       "    <tr style=\"text-align: right;\">\n",
       "      <th></th>\n",
       "      <th>municipio_id</th>\n",
       "      <th>latitud</th>\n",
       "      <th>longitud</th>\n",
       "      <th>nombre</th>\n",
       "    </tr>\n",
       "  </thead>\n",
       "  <tbody>\n",
       "    <tr>\n",
       "      <th>0</th>\n",
       "      <td>acebeda-la</td>\n",
       "      <td>41.0869583</td>\n",
       "      <td>-3.624399</td>\n",
       "      <td>La Acebeda</td>\n",
       "    </tr>\n",
       "  </tbody>\n",
       "</table>\n",
       "</div>"
      ],
      "text/plain": [
       "  municipio_id     latitud   longitud      nombre\n",
       "0   acebeda-la  41.0869583  -3.624399  La Acebeda"
      ]
     },
     "execution_count": 23,
     "metadata": {},
     "output_type": "execute_result"
    }
   ],
   "source": [
    "df_municipios = df_municipios.reset_index(names='municipio_id')\n",
    "df_municipios.head(1)"
   ]
  },
  {
   "cell_type": "markdown",
   "metadata": {},
   "source": [
    "Ahora en `df_municipios` cambiamos los `municipio_id` por sus valores"
   ]
  },
  {
   "cell_type": "code",
   "execution_count": 24,
   "metadata": {},
   "outputs": [],
   "source": [
    "df_municipios['municipio_id'] = df_municipios['municipio_id'].apply(lambda x: dc_municipios[x])"
   ]
  },
  {
   "cell_type": "markdown",
   "metadata": {},
   "source": [
    "---"
   ]
  },
  {
   "cell_type": "markdown",
   "metadata": {},
   "source": [
    "`Ubicaciones`"
   ]
  },
  {
   "cell_type": "code",
   "execution_count": 25,
   "metadata": {},
   "outputs": [
    {
     "data": {
      "text/html": [
       "<div>\n",
       "<style scoped>\n",
       "    .dataframe tbody tr th:only-of-type {\n",
       "        vertical-align: middle;\n",
       "    }\n",
       "\n",
       "    .dataframe tbody tr th {\n",
       "        vertical-align: top;\n",
       "    }\n",
       "\n",
       "    .dataframe thead th {\n",
       "        text-align: right;\n",
       "    }\n",
       "</style>\n",
       "<table border=\"1\" class=\"dataframe\">\n",
       "  <thead>\n",
       "    <tr style=\"text-align: right;\">\n",
       "      <th></th>\n",
       "      <th>municipio</th>\n",
       "      <th>category</th>\n",
       "      <th>fsq_id</th>\n",
       "      <th>closed_bucket</th>\n",
       "      <th>distance</th>\n",
       "      <th>link</th>\n",
       "      <th>name</th>\n",
       "      <th>address</th>\n",
       "      <th>latitude</th>\n",
       "      <th>longitude</th>\n",
       "    </tr>\n",
       "  </thead>\n",
       "  <tbody>\n",
       "    <tr>\n",
       "      <th>0</th>\n",
       "      <td>ajalvir</td>\n",
       "      <td>Park</td>\n",
       "      <td>4d3c6c5b84d46ea87dddfd5c</td>\n",
       "      <td>LikelyOpen</td>\n",
       "      <td>563.0</td>\n",
       "      <td>/v3/places/4d3c6c5b84d46ea87dddfd5c</td>\n",
       "      <td>Diverjungla</td>\n",
       "      <td>Calle Segovia, 20 (Pol. Ind. Donada), 28864 Aj...</td>\n",
       "      <td>40.529921</td>\n",
       "      <td>-3.484341</td>\n",
       "    </tr>\n",
       "  </tbody>\n",
       "</table>\n",
       "</div>"
      ],
      "text/plain": [
       "  municipio category                    fsq_id closed_bucket  distance  \\\n",
       "0   ajalvir     Park  4d3c6c5b84d46ea87dddfd5c    LikelyOpen     563.0   \n",
       "\n",
       "                                  link         name  \\\n",
       "0  /v3/places/4d3c6c5b84d46ea87dddfd5c  Diverjungla   \n",
       "\n",
       "                                             address   latitude  longitude  \n",
       "0  Calle Segovia, 20 (Pol. Ind. Donada), 28864 Aj...  40.529921  -3.484341  "
      ]
     },
     "execution_count": 25,
     "metadata": {},
     "output_type": "execute_result"
    }
   ],
   "source": [
    "df_ubicaciones = pd.read_csv('data/api_foursquare.csv', index_col=0)\n",
    "df_ubicaciones.head(1)"
   ]
  },
  {
   "cell_type": "code",
   "execution_count": 26,
   "metadata": {},
   "outputs": [
    {
     "data": {
      "text/plain": [
       "fsq_id\n",
       "False    822\n",
       "True      85\n",
       "Name: count, dtype: int64"
      ]
     },
     "execution_count": 26,
     "metadata": {},
     "output_type": "execute_result"
    }
   ],
   "source": [
    "# Comprobamos si hay duplicados en el fsq_id (pueden no serlo por municipio)\n",
    "df_ubicaciones['fsq_id'].duplicated().value_counts()"
   ]
  },
  {
   "cell_type": "code",
   "execution_count": 27,
   "metadata": {},
   "outputs": [],
   "source": [
    "df_ubicaciones.drop_duplicates(subset=['fsq_id'], keep='first', inplace=True)"
   ]
  },
  {
   "cell_type": "markdown",
   "metadata": {},
   "source": [
    "Nos interesan todas las columnas salvo el link, que contiene información redundante con fsq_id"
   ]
  },
  {
   "cell_type": "code",
   "execution_count": 28,
   "metadata": {},
   "outputs": [],
   "source": [
    "# Eliminamos la columna que nos sobra\n",
    "df_ubicaciones = df_ubicaciones.drop(columns='link')"
   ]
  },
  {
   "cell_type": "code",
   "execution_count": 29,
   "metadata": {},
   "outputs": [
    {
     "data": {
      "text/html": [
       "<div>\n",
       "<style scoped>\n",
       "    .dataframe tbody tr th:only-of-type {\n",
       "        vertical-align: middle;\n",
       "    }\n",
       "\n",
       "    .dataframe tbody tr th {\n",
       "        vertical-align: top;\n",
       "    }\n",
       "\n",
       "    .dataframe thead th {\n",
       "        text-align: right;\n",
       "    }\n",
       "</style>\n",
       "<table border=\"1\" class=\"dataframe\">\n",
       "  <thead>\n",
       "    <tr style=\"text-align: right;\">\n",
       "      <th></th>\n",
       "      <th>municipio</th>\n",
       "      <th>category</th>\n",
       "      <th>fsq_id</th>\n",
       "      <th>closed_bucket</th>\n",
       "      <th>distance</th>\n",
       "      <th>name</th>\n",
       "      <th>address</th>\n",
       "      <th>latitude</th>\n",
       "      <th>longitude</th>\n",
       "    </tr>\n",
       "  </thead>\n",
       "  <tbody>\n",
       "    <tr>\n",
       "      <th>0</th>\n",
       "      <td>ajalvir</td>\n",
       "      <td>Park</td>\n",
       "      <td>4d3c6c5b84d46ea87dddfd5c</td>\n",
       "      <td>LikelyOpen</td>\n",
       "      <td>563.0</td>\n",
       "      <td>Diverjungla</td>\n",
       "      <td>Calle Segovia, 20 (Pol. Ind. Donada), 28864 Aj...</td>\n",
       "      <td>40.529921</td>\n",
       "      <td>-3.484341</td>\n",
       "    </tr>\n",
       "  </tbody>\n",
       "</table>\n",
       "</div>"
      ],
      "text/plain": [
       "  municipio category                    fsq_id closed_bucket  distance  \\\n",
       "0   ajalvir     Park  4d3c6c5b84d46ea87dddfd5c    LikelyOpen     563.0   \n",
       "\n",
       "          name                                            address   latitude  \\\n",
       "0  Diverjungla  Calle Segovia, 20 (Pol. Ind. Donada), 28864 Aj...  40.529921   \n",
       "\n",
       "   longitude  \n",
       "0  -3.484341  "
      ]
     },
     "execution_count": 29,
     "metadata": {},
     "output_type": "execute_result"
    }
   ],
   "source": [
    "df_ubicaciones.head(1)"
   ]
  },
  {
   "cell_type": "markdown",
   "metadata": {},
   "source": [
    "Creamos la tabla de categorías"
   ]
  },
  {
   "cell_type": "code",
   "execution_count": 30,
   "metadata": {},
   "outputs": [],
   "source": [
    "# Dataframe (series) de las categorías, eliminando duplicados y dejando los índices adecuados\n",
    "df_categorias = df_ubicaciones['category'].drop_duplicates().reset_index(drop = True)\n",
    "\n",
    "# Creamos un diccionario e invertimos las claves y valores\n",
    "dc_categorias = {v: k for k, v in df_categorias.to_dict().items()}\n",
    "\n",
    "# Creamos lo que será nuestra tabla de categorías\n",
    "df_categorias = df_categorias.reset_index().rename(columns={'index': 'category_id'})"
   ]
  },
  {
   "cell_type": "code",
   "execution_count": 31,
   "metadata": {},
   "outputs": [],
   "source": [
    "# Cambiamos los valores en el df de ubicaciones\n",
    "df_ubicaciones['category'] = df_ubicaciones['category'].apply(lambda x: dc_categorias[x])\n",
    "# Renombramos la columna\n",
    "df_ubicaciones.rename(columns={'category': 'category_id'}, inplace = True)"
   ]
  },
  {
   "cell_type": "markdown",
   "metadata": {},
   "source": [
    "Creamos la tabla closed_bucket"
   ]
  },
  {
   "cell_type": "code",
   "execution_count": 32,
   "metadata": {},
   "outputs": [],
   "source": [
    "# Dataframe (series) de las categorías, eliminando duplicados y dejando los índices adecuados\n",
    "df_closed_bucket = df_ubicaciones['closed_bucket'].drop_duplicates().reset_index(drop = True)\n",
    "\n",
    "# Creamos un diccionario e invertimos las claves y valores\n",
    "dc_closed_bucket = {v: k for k, v in df_closed_bucket.to_dict().items()}\n",
    "\n",
    "# Creamos lo que será nuestra tabla de closed bucket\n",
    "df_closed_bucket = df_closed_bucket.reset_index().rename(columns={'index': 'closed_bucket_id'})"
   ]
  },
  {
   "cell_type": "code",
   "execution_count": 33,
   "metadata": {},
   "outputs": [],
   "source": [
    "# Cambiamos los valores en el df de ubicaciones\n",
    "df_ubicaciones['closed_bucket'] = df_ubicaciones['closed_bucket'].apply(lambda x: dc_closed_bucket[x])\n",
    "# Renombramos la columna\n",
    "df_ubicaciones.rename(columns={'closed_bucket': 'closed_bucket_id'}, inplace = True)"
   ]
  },
  {
   "cell_type": "markdown",
   "metadata": {},
   "source": [
    "Nos falta cambiar el municipio por el id correspondiente"
   ]
  },
  {
   "cell_type": "code",
   "execution_count": 34,
   "metadata": {},
   "outputs": [],
   "source": [
    "df_ubicaciones['municipio'] = df_ubicaciones['municipio'].apply(lambda x: dc_municipios[x])\n",
    "# Renombramos la columna\n",
    "df_ubicaciones.rename(columns={'municipio': 'municipio_id'}, inplace = True)"
   ]
  },
  {
   "cell_type": "markdown",
   "metadata": {},
   "source": [
    "---"
   ]
  },
  {
   "cell_type": "markdown",
   "metadata": {},
   "source": [
    "### Creación de queries para crear las tablas"
   ]
  },
  {
   "cell_type": "markdown",
   "metadata": {},
   "source": [
    "Queries de creación"
   ]
  },
  {
   "cell_type": "code",
   "execution_count": 35,
   "metadata": {},
   "outputs": [],
   "source": [
    "# Crear la tabla Municipios\n",
    "query_creacion_municipios = \"\"\"\n",
    "create table if not exists municipios (\n",
    "    municipio_id INT primary key,\n",
    "    latitud VARCHAR(20) not null,\n",
    "    longitud VARCHAR(20) not null,\n",
    "    nombre VARCHAR(50) not null unique\n",
    ");\n",
    "\"\"\"\n",
    "\n",
    "# Crear la tabla Tiempo\n",
    "query_creacion_tiempo = \"\"\"\n",
    "create table if not exists tiempo (\n",
    "    tiempo_id SERIAL primary key,\n",
    "    fecha DATE not null,\n",
    "    cielo_id INT not null,\n",
    "    temperatura_C INT not null,\n",
    "    sensacion_termica_C INT not null,\n",
    "    racha_maxima_kmh DECIMAL(10, 4) not null,\n",
    "    precipitacion_mm DECIMAL(10, 4) not null,\n",
    "    nieve_mm DECIMAL(10, 4) not null,\n",
    "    humedad_relativa INT not null,\n",
    "    prob_precip VARCHAR(10) not null,\n",
    "    prob_nieve INT not null,\n",
    "    prob_tormenta INT not null,\n",
    "    avisos VARCHAR(20) not null,\n",
    "    dir_viento VARCHAR(2) not null,\n",
    "    vel_viento INT not null,\n",
    "    municipio_id INT not null,\n",
    "    foreign key (municipio_id) references municipios(municipio_id),\n",
    "    foreign key (cielo_id) references cielo(cielo_id)\n",
    ");\n",
    "\"\"\"\n",
    "\n",
    "# Crear la tabla Ubicaciones\n",
    "query_creacion_ubicaciones = \"\"\"\n",
    "create table if not exists ubicaciones (\n",
    "    municipio_id INT not null,\n",
    "    category_id INT not null,\n",
    "    fsq_id VARCHAR(50) primary key,\n",
    "    closed_bucket_id INT not null,\n",
    "    distance DECIMAL(10, 2) not null,\n",
    "    name VARCHAR(100) not null,\n",
    "    address VARCHAR(300) not null,\n",
    "    latitude DECIMAL(10, 5) not null,\n",
    "    longitude DECIMAL(10, 5) not null,\n",
    "    foreign key (municipio_id) references municipios(municipio_id),\n",
    "    foreign key (category_id) references categorias(category_id),\n",
    "    foreign key (closed_bucket_id) references closed_bucket(closed_bucket_id)\n",
    ");\n",
    "\"\"\"\n",
    "\n",
    "# Crear la tabla Cielo\n",
    "query_creacion_cielo = \"\"\"\n",
    "create table if not exists cielo (\n",
    "    cielo_id INT unique not null,\n",
    "    estado VARCHAR(100) unique not null\n",
    ");\n",
    "\"\"\"\n",
    "\n",
    "# Crear la tabla Categorías\n",
    "query_creacion_categorias = \"\"\"\n",
    "create table if not exists categorias (\n",
    "    category_id INT unique not null primary key,\n",
    "    category VARCHAR(100) unique not null\n",
    ");\n",
    "\"\"\"\n",
    "\n",
    "# Crear la tabla Closed bucket\n",
    "query_creacion_closed_bucket = \"\"\"\n",
    "create table if not exists closed_bucket (\n",
    "    closed_bucket_id INT unique not null primary key,\n",
    "    closed_bucket VARCHAR(100) unique not null\n",
    ");\n",
    "\"\"\"\n",
    "\n",
    "# En orden para crear las que tienen foreign key al final\n",
    "lista_queries = [query_creacion_municipios, \n",
    "                 query_creacion_categorias, \n",
    "                 query_creacion_closed_bucket, \n",
    "                 query_creacion_cielo, \n",
    "                 query_creacion_tiempo,\n",
    "                 query_creacion_ubicaciones]"
   ]
  },
  {
   "cell_type": "markdown",
   "metadata": {},
   "source": [
    "Ejecución de queries de creación"
   ]
  },
  {
   "cell_type": "code",
   "execution_count": 36,
   "metadata": {},
   "outputs": [],
   "source": [
    "# Conexión a la base de datos\n",
    "\n",
    "try:\n",
    "    conexion = psycopg2.connect(\n",
    "        database = 'atrezzo',\n",
    "        user = 'my_user',\n",
    "        password = 'admin',\n",
    "        host = 'localhost',\n",
    "        port = '5432'\n",
    "    )\n",
    "\n",
    "except OperationalError as e:\n",
    "    if e.pgcode == errorcodes.INVALID_PASSWORD:\n",
    "        print('La contraseña es incorrecta')\n",
    "    elif e.pgcode == errorcodes.CONNECTION_EXCEPTION:\n",
    "        print('Error de conexión')\n",
    "    else:\n",
    "        print(f'Hay un error: {e}')"
   ]
  },
  {
   "cell_type": "code",
   "execution_count": 37,
   "metadata": {},
   "outputs": [],
   "source": [
    "# Creamos un cursor\n",
    "cursor = conexion.cursor()\n",
    "# Ejecutamos la query de creación de tabla\n",
    "\n",
    "for query in lista_queries:\n",
    "    cursor.execute(query)\n",
    "\n",
    "conexion.commit()\n",
    "# Cerrar la conexión\n",
    "conexion.close()"
   ]
  },
  {
   "cell_type": "markdown",
   "metadata": {},
   "source": [
    "Ejecución de la inserción"
   ]
  },
  {
   "cell_type": "code",
   "execution_count": 38,
   "metadata": {},
   "outputs": [],
   "source": [
    "query_insercion_municipios = \"\"\"\n",
    "INSERT INTO municipios (municipio_id, latitud, longitud, nombre)\n",
    "VALUES\n",
    "(%s, %s, %s, %s)\n",
    "\"\"\"\n",
    "\n",
    "query_insercion_tiempo = \"\"\"\n",
    "INSERT INTO tiempo (fecha, \n",
    "                    cielo_id, \n",
    "                    temperatura_C, \n",
    "                    sensacion_termica_C, \n",
    "                    racha_maxima_kmh, \n",
    "                    precipitacion_mm, \n",
    "                    nieve_mm, \n",
    "                    humedad_relativa,\n",
    "                    prob_precip,\n",
    "                    prob_nieve,\n",
    "                    prob_tormenta,\n",
    "                    avisos,\n",
    "                    dir_viento,\n",
    "                    vel_viento,\n",
    "                    municipio_id)\n",
    "VALUES\n",
    "(%s, %s, %s, %s, %s, %s, %s, %s, %s, %s, %s, %s, %s, %s, %s)\n",
    "\"\"\"\n",
    "\n",
    "query_insercion_ubicaciones = \"\"\"\n",
    "INSERT INTO ubicaciones (municipio_id,\n",
    "                    category_id,\n",
    "                    fsq_id,\n",
    "                    closed_bucket_id,\n",
    "                    distance,\n",
    "                    name,\n",
    "                    address,\n",
    "                    latitude,\n",
    "                    longitude)\n",
    "VALUES\n",
    "(%s, %s, %s, %s, %s, %s, %s, %s, %s)\n",
    "\"\"\"\n",
    "\n",
    "query_insercion_cielo = \"\"\"\n",
    "INSERT INTO cielo (cielo_id, estado)\n",
    "VALUES\n",
    "(%s, %s)\n",
    "\"\"\"\n",
    "\n",
    "query_insercion_categorias = \"\"\"\n",
    "INSERT INTO categorias (category_id, category)\n",
    "VALUES\n",
    "(%s, %s)\n",
    "\"\"\"\n",
    "\n",
    "query_insercion_closed_bucket = \"\"\"\n",
    "INSERT INTO closed_bucket (closed_bucket_id, closed_bucket)\n",
    "VALUES\n",
    "(%s, %s)\n",
    "\"\"\""
   ]
  },
  {
   "cell_type": "code",
   "execution_count": 39,
   "metadata": {},
   "outputs": [],
   "source": [
    "valores_municipios = [tuple(fila) for fila in df_municipios.values]\n",
    "\n",
    "valores_categorias = [tuple(fila) for fila in df_categorias.values]\n",
    "\n",
    "valores_cielo = [tuple(fila) for fila in df_cielo.values]\n",
    "\n",
    "valores_closed_bucket = [tuple(fila) for fila in df_closed_bucket.values]\n",
    "\n",
    "valores_tiempo = [tuple(fila) for fila in df_tiempo.values]\n",
    "\n",
    "valores_ubicaciones = [tuple(fila) for fila in df_ubicaciones.values]"
   ]
  },
  {
   "cell_type": "code",
   "execution_count": 40,
   "metadata": {},
   "outputs": [],
   "source": [
    "# Conexión a la base de datos\n",
    "\n",
    "try:\n",
    "    conexion = psycopg2.connect(\n",
    "        database = 'atrezzo',\n",
    "        user = 'my_user',\n",
    "        password = 'admin',\n",
    "        host = 'localhost',\n",
    "        port = '5432'\n",
    "    )\n",
    "\n",
    "except OperationalError as e:\n",
    "    if e.pgcode == errorcodes.INVALID_PASSWORD:\n",
    "        print('La contraseña es incorrecta')\n",
    "    elif e.pgcode == errorcodes.CONNECTION_EXCEPTION:\n",
    "        print('Error de conexión')\n",
    "    else:\n",
    "        print(f'Hay un error: {e}')"
   ]
  },
  {
   "cell_type": "code",
   "execution_count": 41,
   "metadata": {},
   "outputs": [],
   "source": [
    "# Creamos un cursor\n",
    "cursor = conexion.cursor()\n",
    "cursor.executemany(query_insercion_municipios, valores_municipios)\n",
    "cursor.executemany(query_insercion_categorias, valores_categorias)\n",
    "cursor.executemany(query_insercion_cielo, valores_cielo)\n",
    "cursor.executemany(query_insercion_closed_bucket, valores_closed_bucket)\n",
    "cursor.executemany(query_insercion_tiempo, valores_tiempo)\n",
    "cursor.executemany(query_insercion_ubicaciones, valores_ubicaciones)\n",
    "conexion.commit()\n",
    "# Cerrar la conexión\n",
    "conexion.close()"
   ]
  }
 ],
 "metadata": {
  "kernelspec": {
   "display_name": "proyecto4",
   "language": "python",
   "name": "python3"
  },
  "language_info": {
   "codemirror_mode": {
    "name": "ipython",
    "version": 3
   },
   "file_extension": ".py",
   "mimetype": "text/x-python",
   "name": "python",
   "nbconvert_exporter": "python",
   "pygments_lexer": "ipython3",
   "version": "3.12.7"
  }
 },
 "nbformat": 4,
 "nbformat_minor": 2
}
